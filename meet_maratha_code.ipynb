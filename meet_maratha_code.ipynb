{
 "cells": [
  {
   "cell_type": "markdown",
   "metadata": {},
   "source": [
    "#### Name       : Meet Manoj Maratha\n",
    "#### Roll No    : 19190\n",
    "#### Department : Data Science and Engineering\n",
    "#### Gravitational Wave Data Analysis : Glitch classification using ML"
   ]
  },
  {
   "cell_type": "markdown",
   "metadata": {},
   "source": [
    "### Importing Libraries"
   ]
  },
  {
   "cell_type": "code",
   "execution_count": 1,
   "metadata": {},
   "outputs": [],
   "source": [
    "import numpy as np\n",
    "import pandas as pd\n",
    "import matplotlib.pyplot as plt\n",
    "from sklearn.model_selection import StratifiedKFold, GridSearchCV\n",
    "from sklearn.feature_selection import mutual_info_classif, chi2\n",
    "from sklearn.preprocessing import RobustScaler, QuantileTransformer, LabelEncoder\n",
    "from sklearn.svm import SVC\n",
    "from sklearn.ensemble import RandomForestClassifier, BaggingClassifier\n",
    "from sklearn.metrics import f1_score, classification_report\n",
    "import pickle\n",
    "import seaborn as sns\n",
    "import warnings\n",
    "import random\n",
    "import os\n",
    "warnings.filterwarnings(\"ignore\")\n",
    "random.seed(10)"
   ]
  },
  {
   "cell_type": "markdown",
   "metadata": {},
   "source": [
    "#### User-defined Function"
   ]
  },
  {
   "cell_type": "code",
   "execution_count": 6,
   "metadata": {},
   "outputs": [],
   "source": [
    "def scaler(method, data, col_name):\n",
    "    scaler = method.fit(data.loc[:,col_name])\n",
    "    data_SS = scaler.transform(data.loc[:,col_name])\n",
    "    data_SS = pd.DataFrame(data_SS, columns=col_name)\n",
    "    data_SS['ifo'] = data.ifo\n",
    "    return data_SS"
   ]
  },
  {
   "cell_type": "markdown",
   "metadata": {},
   "source": [
    "### Importing data and data cleaning"
   ]
  },
  {
   "cell_type": "code",
   "execution_count": 3,
   "metadata": {},
   "outputs": [
    {
     "name": "stdout",
     "output_type": "stream",
     "text": [
      "Unique Labels are : \n",
      "['1080Lines' '1400Ripples' 'Air_Compressor' 'Blip' 'Chirp'\n",
      " 'Extremely_Loud' 'Helix' 'Koi_Fish' 'Light_Modulation'\n",
      " 'Low_Frequency_Burst' 'Low_Frequency_Lines' 'No_Glitch'\n",
      " 'None_of_the_Above' 'Paired_Doves' 'Power_Line' 'Repeating_Blips'\n",
      " 'Scattered_Light' 'Scratchy' 'Tomte' 'Violin_Mode' 'Wandering_Line'\n",
      " 'Whistle']\n"
     ]
    }
   ],
   "source": [
    "data = pd.read_csv('data\\glitch_trn_data.csv')\n",
    "label = pd.read_csv('data\\glitch_trn_class_labels.csv', header = None)\n",
    "label_unique = np.unique(label.iloc[:,1])\n",
    "print(f'Unique Labels are : \\n{label_unique}')\n",
    "le = LabelEncoder()\n",
    "labels = le.fit(label.loc[:,1]).transform(label.loc[:,1])"
   ]
  },
  {
   "cell_type": "code",
   "execution_count": 28,
   "metadata": {},
   "outputs": [
    {
     "name": "stdout",
     "output_type": "stream",
     "text": [
      "<class 'pandas.core.frame.DataFrame'>\n",
      "RangeIndex: 6000 entries, 0 to 5999\n",
      "Data columns (total 8 columns):\n",
      " #   Column       Non-Null Count  Dtype  \n",
      "---  ------       --------------  -----  \n",
      " 0   id           6000 non-null   object \n",
      " 1   GPStime      6000 non-null   float64\n",
      " 2   centralFreq  6000 non-null   float64\n",
      " 3   peakFreq     6000 non-null   float64\n",
      " 4   snr          6000 non-null   float64\n",
      " 5   ifo          6000 non-null   object \n",
      " 6   bandwidth    6000 non-null   float64\n",
      " 7   duration     6000 non-null   float64\n",
      "dtypes: float64(6), object(2)\n",
      "memory usage: 375.1+ KB\n"
     ]
    }
   ],
   "source": [
    "data.info()"
   ]
  },
  {
   "cell_type": "markdown",
   "metadata": {},
   "source": [
    "We notice that <i>ifo</i>, <i>id</i> column are categorical data and there are no null values in the data."
   ]
  },
  {
   "cell_type": "code",
   "execution_count": 29,
   "metadata": {},
   "outputs": [
    {
     "data": {
      "text/html": [
       "<div>\n",
       "<style scoped>\n",
       "    .dataframe tbody tr th:only-of-type {\n",
       "        vertical-align: middle;\n",
       "    }\n",
       "\n",
       "    .dataframe tbody tr th {\n",
       "        vertical-align: top;\n",
       "    }\n",
       "\n",
       "    .dataframe thead th {\n",
       "        text-align: right;\n",
       "    }\n",
       "</style>\n",
       "<table border=\"1\" class=\"dataframe\">\n",
       "  <thead>\n",
       "    <tr style=\"text-align: right;\">\n",
       "      <th></th>\n",
       "      <th>id</th>\n",
       "      <th>GPStime</th>\n",
       "      <th>centralFreq</th>\n",
       "      <th>peakFreq</th>\n",
       "      <th>snr</th>\n",
       "      <th>ifo</th>\n",
       "      <th>bandwidth</th>\n",
       "      <th>duration</th>\n",
       "    </tr>\n",
       "  </thead>\n",
       "  <tbody>\n",
       "    <tr>\n",
       "      <th>0</th>\n",
       "      <td>HH9ABflByx</td>\n",
       "      <td>1.129517e+09</td>\n",
       "      <td>364.822</td>\n",
       "      <td>225.349</td>\n",
       "      <td>35.919</td>\n",
       "      <td>L1</td>\n",
       "      <td>665.643311</td>\n",
       "      <td>0.250</td>\n",
       "    </tr>\n",
       "    <tr>\n",
       "      <th>1</th>\n",
       "      <td>oTXUV2ynKq</td>\n",
       "      <td>1.135647e+09</td>\n",
       "      <td>3609.954</td>\n",
       "      <td>38.027</td>\n",
       "      <td>2743.555</td>\n",
       "      <td>H1</td>\n",
       "      <td>7209.994629</td>\n",
       "      <td>13.690</td>\n",
       "    </tr>\n",
       "    <tr>\n",
       "      <th>2</th>\n",
       "      <td>jQwe6arh9F</td>\n",
       "      <td>1.129802e+09</td>\n",
       "      <td>1838.466</td>\n",
       "      <td>2025.310</td>\n",
       "      <td>16.698</td>\n",
       "      <td>H1</td>\n",
       "      <td>3612.932861</td>\n",
       "      <td>0.375</td>\n",
       "    </tr>\n",
       "    <tr>\n",
       "      <th>3</th>\n",
       "      <td>g8bOTBroX2</td>\n",
       "      <td>1.131774e+09</td>\n",
       "      <td>2067.878</td>\n",
       "      <td>111.128</td>\n",
       "      <td>12.727</td>\n",
       "      <td>H1</td>\n",
       "      <td>4067.436523</td>\n",
       "      <td>0.105</td>\n",
       "    </tr>\n",
       "    <tr>\n",
       "      <th>4</th>\n",
       "      <td>7KAvyGygKM</td>\n",
       "      <td>1.130969e+09</td>\n",
       "      <td>3978.111</td>\n",
       "      <td>131.921</td>\n",
       "      <td>10.926</td>\n",
       "      <td>L1</td>\n",
       "      <td>7795.106934</td>\n",
       "      <td>2.304</td>\n",
       "    </tr>\n",
       "  </tbody>\n",
       "</table>\n",
       "</div>"
      ],
      "text/plain": [
       "           id       GPStime  centralFreq  peakFreq       snr ifo    bandwidth  \\\n",
       "0  HH9ABflByx  1.129517e+09      364.822   225.349    35.919  L1   665.643311   \n",
       "1  oTXUV2ynKq  1.135647e+09     3609.954    38.027  2743.555  H1  7209.994629   \n",
       "2  jQwe6arh9F  1.129802e+09     1838.466  2025.310    16.698  H1  3612.932861   \n",
       "3  g8bOTBroX2  1.131774e+09     2067.878   111.128    12.727  H1  4067.436523   \n",
       "4  7KAvyGygKM  1.130969e+09     3978.111   131.921    10.926  L1  7795.106934   \n",
       "\n",
       "   duration  \n",
       "0     0.250  \n",
       "1    13.690  \n",
       "2     0.375  \n",
       "3     0.105  \n",
       "4     2.304  "
      ]
     },
     "execution_count": 29,
     "metadata": {},
     "output_type": "execute_result"
    }
   ],
   "source": [
    "data.head()"
   ]
  },
  {
   "cell_type": "markdown",
   "metadata": {},
   "source": [
    "#### Preprocessing Data"
   ]
  },
  {
   "cell_type": "code",
   "execution_count": 30,
   "metadata": {},
   "outputs": [
    {
     "data": {
      "image/png": "[encoded data removed]",
      "text/plain": [
       "<Figure size 1440x1440 with 1 Axes>"
      ]
     },
     "metadata": {},
     "output_type": "display_data"
    }
   ],
   "source": [
    "Figure =  plt.figure(figsize=(20,20))\n",
    "plt.title(\"Label Distribution\", fontdict={'fontsize' : 18})\n",
    "sns.set_style(\"darkgrid\")\n",
    "X_labels = le.inverse_transform(labels)\n",
    "sns.countplot(y=X_labels)\n",
    "plt.ylabel('Labels', fontdict={'fontsize' : 18})\n",
    "plt.show()"
   ]
  },
  {
   "cell_type": "markdown",
   "metadata": {},
   "source": [
    "Here we notice that data is highly sqewed and we have a large number of entries for 'Blip' which is encoded as '3'"
   ]
  },
  {
   "cell_type": "code",
   "execution_count": 31,
   "metadata": {},
   "outputs": [
    {
     "data": {
      "text/html": [
       "<div>\n",
       "<style scoped>\n",
       "    .dataframe tbody tr th:only-of-type {\n",
       "        vertical-align: middle;\n",
       "    }\n",
       "\n",
       "    .dataframe tbody tr th {\n",
       "        vertical-align: top;\n",
       "    }\n",
       "\n",
       "    .dataframe thead th {\n",
       "        text-align: right;\n",
       "    }\n",
       "</style>\n",
       "<table border=\"1\" class=\"dataframe\">\n",
       "  <thead>\n",
       "    <tr style=\"text-align: right;\">\n",
       "      <th></th>\n",
       "      <th>GPStime</th>\n",
       "      <th>centralFreq</th>\n",
       "      <th>peakFreq</th>\n",
       "      <th>snr</th>\n",
       "      <th>bandwidth</th>\n",
       "      <th>duration</th>\n",
       "    </tr>\n",
       "  </thead>\n",
       "  <tbody>\n",
       "    <tr>\n",
       "      <th>count</th>\n",
       "      <td>6.000000e+03</td>\n",
       "      <td>6000.000000</td>\n",
       "      <td>6000.000000</td>\n",
       "      <td>6000.000000</td>\n",
       "      <td>6000.000000</td>\n",
       "      <td>6000.000000</td>\n",
       "    </tr>\n",
       "    <tr>\n",
       "      <th>mean</th>\n",
       "      <td>1.131849e+09</td>\n",
       "      <td>1527.440234</td>\n",
       "      <td>204.571435</td>\n",
       "      <td>187.408314</td>\n",
       "      <td>2937.869143</td>\n",
       "      <td>1.779829</td>\n",
       "    </tr>\n",
       "    <tr>\n",
       "      <th>std</th>\n",
       "      <td>3.171981e+06</td>\n",
       "      <td>1319.213735</td>\n",
       "      <td>375.027578</td>\n",
       "      <td>1488.282964</td>\n",
       "      <td>2663.562766</td>\n",
       "      <td>2.684282</td>\n",
       "    </tr>\n",
       "    <tr>\n",
       "      <th>min</th>\n",
       "      <td>1.126403e+09</td>\n",
       "      <td>9.780000</td>\n",
       "      <td>10.072000</td>\n",
       "      <td>7.501000</td>\n",
       "      <td>1.259180</td>\n",
       "      <td>0.010000</td>\n",
       "    </tr>\n",
       "    <tr>\n",
       "      <th>25%</th>\n",
       "      <td>1.128874e+09</td>\n",
       "      <td>256.501000</td>\n",
       "      <td>34.175000</td>\n",
       "      <td>10.360500</td>\n",
       "      <td>425.750580</td>\n",
       "      <td>0.222750</td>\n",
       "    </tr>\n",
       "    <tr>\n",
       "      <th>50%</th>\n",
       "      <td>1.132150e+09</td>\n",
       "      <td>1228.915000</td>\n",
       "      <td>111.128000</td>\n",
       "      <td>15.430000</td>\n",
       "      <td>2287.861206</td>\n",
       "      <td>0.767000</td>\n",
       "    </tr>\n",
       "    <tr>\n",
       "      <th>75%</th>\n",
       "      <td>1.134567e+09</td>\n",
       "      <td>2627.853750</td>\n",
       "      <td>183.495000</td>\n",
       "      <td>37.026500</td>\n",
       "      <td>5195.882568</td>\n",
       "      <td>2.154500</td>\n",
       "    </tr>\n",
       "    <tr>\n",
       "      <th>max</th>\n",
       "      <td>1.137250e+09</td>\n",
       "      <td>4615.132000</td>\n",
       "      <td>2047.106000</td>\n",
       "      <td>81178.727000</td>\n",
       "      <td>7946.482910</td>\n",
       "      <td>42.156000</td>\n",
       "    </tr>\n",
       "  </tbody>\n",
       "</table>\n",
       "</div>"
      ],
      "text/plain": [
       "            GPStime  centralFreq     peakFreq           snr    bandwidth  \\\n",
       "count  6.000000e+03  6000.000000  6000.000000   6000.000000  6000.000000   \n",
       "mean   1.131849e+09  1527.440234   204.571435    187.408314  2937.869143   \n",
       "std    3.171981e+06  1319.213735   375.027578   1488.282964  2663.562766   \n",
       "min    1.126403e+09     9.780000    10.072000      7.501000     1.259180   \n",
       "25%    1.128874e+09   256.501000    34.175000     10.360500   425.750580   \n",
       "50%    1.132150e+09  1228.915000   111.128000     15.430000  2287.861206   \n",
       "75%    1.134567e+09  2627.853750   183.495000     37.026500  5195.882568   \n",
       "max    1.137250e+09  4615.132000  2047.106000  81178.727000  7946.482910   \n",
       "\n",
       "          duration  \n",
       "count  6000.000000  \n",
       "mean      1.779829  \n",
       "std       2.684282  \n",
       "min       0.010000  \n",
       "25%       0.222750  \n",
       "50%       0.767000  \n",
       "75%       2.154500  \n",
       "max      42.156000  "
      ]
     },
     "execution_count": 31,
     "metadata": {},
     "output_type": "execute_result"
    }
   ],
   "source": [
    "data.describe()"
   ]
  },
  {
   "cell_type": "markdown",
   "metadata": {},
   "source": [
    "As we notice here there is discrepancy in the scale of values for each column. We need to scale this data to make it useful for classification. Before that let's check out data distribution of the provided data"
   ]
  },
  {
   "cell_type": "code",
   "execution_count": 32,
   "metadata": {},
   "outputs": [
    {
     "data": {
      "image/png": "[encoded data removed]",
      "text/plain": [
       "<Figure size 1080x1080 with 6 Axes>"
      ]
     },
     "metadata": {},
     "output_type": "display_data"
    }
   ],
   "source": [
    "plt.figure(figsize=(15,15))\n",
    "col = ['GPStime', 'centralFreq', 'peakFreq', 'snr', 'bandwidth', 'duration']\n",
    "for i in range(6):\n",
    "    plt.subplot(3,2,i+1)\n",
    "    sns.set_style('darkgrid')\n",
    "    title = 'Data distrbution of ' + col[i].capitalize()\n",
    "    plt.title(title)\n",
    "    if col[i] == 'snr':\n",
    "        sns.histplot(data[col[i]], bins = 50)\n",
    "    else:\n",
    "        sns.histplot(data[col[i]])\n",
    "    plt.xlabel(col[i])\n",
    "    plt.ylabel('Count')\n",
    "plt.show()"
   ]
  },
  {
   "cell_type": "markdown",
   "metadata": {},
   "source": [
    "Now lets look at above graphs after log-scaling as duration and peakFreq distribution seems like they will look like gaussian in it"
   ]
  },
  {
   "cell_type": "code",
   "execution_count": 33,
   "metadata": {},
   "outputs": [
    {
     "data": {
      "image/png": "[encoded data removed]",
      "text/plain": [
       "<Figure size 1080x1080 with 6 Axes>"
      ]
     },
     "metadata": {},
     "output_type": "display_data"
    }
   ],
   "source": [
    "plt.figure(figsize=(15,15))\n",
    "col = ['GPStime', 'centralFreq', 'peakFreq', 'snr', 'bandwidth', 'duration']\n",
    "for i in range(6):\n",
    "    plt.subplot(3,2,i+1)\n",
    "    title = 'Data distrbution of ' + col[i].capitalize()\n",
    "    plt.title(title)\n",
    "    sns.set_style('darkgrid')\n",
    "    if col[i] == 'snr':\n",
    "        sns.histplot(data[col[i]], bins = 50, log_scale = True)\n",
    "    else:\n",
    "        sns.histplot(data[col[i]], log_scale = True)\n",
    "    plt.xlabel(col[i])\n",
    "    plt.ylabel('Count')\n",
    "plt.show()"
   ]
  },
  {
   "cell_type": "markdown",
   "metadata": {},
   "source": [
    "Now let's come to the topic we were discussing before checking out the data, the scaling of data. There are 3 general ways in which data can be prepared for classification machine learning, i.e. Scaling, Transformation or Normalization. Scaling is useful when our data follows a Gaussian Distribution and Normalization is helpful when it does not and Transformation is used for transforming data to another form which can be better used by the classification algorithm. Here our data does not seem to follow Gaussian distribution but still lets apply the scaling techniques, transformation tehcniques as well as normalization technique. But a thing we have note in our data is that it is skewed. It is generally good to provide a not skewed data for models we are going to use, so we choose method of scaling based on that."
   ]
  },
  {
   "cell_type": "markdown",
   "metadata": {},
   "source": [
    "In the project we are using following types of <b>Scaling techniques</b>:\n",
    "<ol>\n",
    "    <li>Robust Scaler\n",
    "</ol>\n",
    "In the project we are using following types of <b>Transformation techniques</b>:\n",
    "<ol>\n",
    "    <li>Quantile Transformer\n",
    "    <li>Quantile Transformer (Bell CUrve)\n",
    "</ol>\n",
    "\n",
    "<b>Note:</b> We are excluding <i><b>'id'</b></i> column from the data as it is unique for each unique value which we have shown below"
   ]
  },
  {
   "cell_type": "code",
   "execution_count": 34,
   "metadata": {},
   "outputs": [
    {
     "name": "stdout",
     "output_type": "stream",
     "text": [
      "Number of Unique features in the column \"id\" : 6000\n"
     ]
    }
   ],
   "source": [
    "print(f'Number of Unique features in the column \"id\" : {np.unique( data.id ).shape[0]}')"
   ]
  },
  {
   "cell_type": "code",
   "execution_count": 35,
   "metadata": {},
   "outputs": [],
   "source": [
    "data_RS = scaler(RobustScaler(), data, col)\n",
    "data_QT = scaler(QuantileTransformer(random_state = 0, output_distribution = 'uniform'), data, col)\n",
    "data_QTN = scaler(QuantileTransformer(random_state = 0, output_distribution = 'normal'), data, col)"
   ]
  },
  {
   "cell_type": "markdown",
   "metadata": {},
   "source": [
    "Now let's take care of the categorical data present in 'ifo' column. As the unique values in it are just 2 we are using one-hot encoding method for encoding this data. LabelEncoder would have been used if there was a lot of different values in it."
   ]
  },
  {
   "cell_type": "code",
   "execution_count": 36,
   "metadata": {},
   "outputs": [],
   "source": [
    "data_RS = pd.concat([data_RS, pd.get_dummies(data['ifo'], prefix = 'ifo')], axis=1).drop('ifo', axis=1)\n",
    "data_QT = pd.concat([data_QT, pd.get_dummies(data['ifo'], prefix = 'ifo')], axis=1).drop('ifo', axis=1)\n",
    "data_QTN = pd.concat([data_QTN, pd.get_dummies(data['ifo'], prefix = 'ifo')], axis=1).drop('ifo', axis=1)"
   ]
  },
  {
   "cell_type": "code",
   "execution_count": 42,
   "metadata": {},
   "outputs": [
    {
     "data": {
      "text/html": [
       "<div>\n",
       "<style scoped>\n",
       "    .dataframe tbody tr th:only-of-type {\n",
       "        vertical-align: middle;\n",
       "    }\n",
       "\n",
       "    .dataframe tbody tr th {\n",
       "        vertical-align: top;\n",
       "    }\n",
       "\n",
       "    .dataframe thead th {\n",
       "        text-align: right;\n",
       "    }\n",
       "</style>\n",
       "<table border=\"1\" class=\"dataframe\">\n",
       "  <thead>\n",
       "    <tr style=\"text-align: right;\">\n",
       "      <th></th>\n",
       "      <th>GPStime</th>\n",
       "      <th>centralFreq</th>\n",
       "      <th>peakFreq</th>\n",
       "      <th>snr</th>\n",
       "      <th>bandwidth</th>\n",
       "      <th>duration</th>\n",
       "      <th>ifo_H1</th>\n",
       "      <th>ifo_L1</th>\n",
       "    </tr>\n",
       "  </thead>\n",
       "  <tbody>\n",
       "    <tr>\n",
       "      <th>0</th>\n",
       "      <td>1.129517e+09</td>\n",
       "      <td>364.822</td>\n",
       "      <td>225.349</td>\n",
       "      <td>35.919</td>\n",
       "      <td>665.643311</td>\n",
       "      <td>0.250</td>\n",
       "      <td>0</td>\n",
       "      <td>1</td>\n",
       "    </tr>\n",
       "    <tr>\n",
       "      <th>1</th>\n",
       "      <td>1.135647e+09</td>\n",
       "      <td>3609.954</td>\n",
       "      <td>38.027</td>\n",
       "      <td>2743.555</td>\n",
       "      <td>7209.994629</td>\n",
       "      <td>13.690</td>\n",
       "      <td>1</td>\n",
       "      <td>0</td>\n",
       "    </tr>\n",
       "    <tr>\n",
       "      <th>2</th>\n",
       "      <td>1.129802e+09</td>\n",
       "      <td>1838.466</td>\n",
       "      <td>2025.310</td>\n",
       "      <td>16.698</td>\n",
       "      <td>3612.932861</td>\n",
       "      <td>0.375</td>\n",
       "      <td>1</td>\n",
       "      <td>0</td>\n",
       "    </tr>\n",
       "    <tr>\n",
       "      <th>3</th>\n",
       "      <td>1.131774e+09</td>\n",
       "      <td>2067.878</td>\n",
       "      <td>111.128</td>\n",
       "      <td>12.727</td>\n",
       "      <td>4067.436523</td>\n",
       "      <td>0.105</td>\n",
       "      <td>1</td>\n",
       "      <td>0</td>\n",
       "    </tr>\n",
       "    <tr>\n",
       "      <th>4</th>\n",
       "      <td>1.130969e+09</td>\n",
       "      <td>3978.111</td>\n",
       "      <td>131.921</td>\n",
       "      <td>10.926</td>\n",
       "      <td>7795.106934</td>\n",
       "      <td>2.304</td>\n",
       "      <td>0</td>\n",
       "      <td>1</td>\n",
       "    </tr>\n",
       "  </tbody>\n",
       "</table>\n",
       "</div>"
      ],
      "text/plain": [
       "        GPStime  centralFreq  peakFreq       snr    bandwidth  duration  \\\n",
       "0  1.129517e+09      364.822   225.349    35.919   665.643311     0.250   \n",
       "1  1.135647e+09     3609.954    38.027  2743.555  7209.994629    13.690   \n",
       "2  1.129802e+09     1838.466  2025.310    16.698  3612.932861     0.375   \n",
       "3  1.131774e+09     2067.878   111.128    12.727  4067.436523     0.105   \n",
       "4  1.130969e+09     3978.111   131.921    10.926  7795.106934     2.304   \n",
       "\n",
       "   ifo_H1  ifo_L1  \n",
       "0       0       1  \n",
       "1       1       0  \n",
       "2       1       0  \n",
       "3       1       0  \n",
       "4       0       1  "
      ]
     },
     "execution_count": 42,
     "metadata": {},
     "output_type": "execute_result"
    }
   ],
   "source": [
    "data_normal = pd.concat([data, pd.get_dummies(data['ifo'], prefix = 'ifo')], axis=1).drop(['ifo', 'id'], axis=1)\n",
    "data_normal.head()"
   ]
  },
  {
   "cell_type": "code",
   "execution_count": 43,
   "metadata": {},
   "outputs": [
    {
     "data": {
      "text/html": [
       "<div>\n",
       "<style scoped>\n",
       "    .dataframe tbody tr th:only-of-type {\n",
       "        vertical-align: middle;\n",
       "    }\n",
       "\n",
       "    .dataframe tbody tr th {\n",
       "        vertical-align: top;\n",
       "    }\n",
       "\n",
       "    .dataframe thead th {\n",
       "        text-align: right;\n",
       "    }\n",
       "</style>\n",
       "<table border=\"1\" class=\"dataframe\">\n",
       "  <thead>\n",
       "    <tr style=\"text-align: right;\">\n",
       "      <th></th>\n",
       "      <th>GPStime</th>\n",
       "      <th>centralFreq</th>\n",
       "      <th>peakFreq</th>\n",
       "      <th>snr</th>\n",
       "      <th>bandwidth</th>\n",
       "      <th>duration</th>\n",
       "      <th>ifo_H1</th>\n",
       "      <th>ifo_L1</th>\n",
       "    </tr>\n",
       "  </thead>\n",
       "  <tbody>\n",
       "    <tr>\n",
       "      <th>count</th>\n",
       "      <td>6.000000e+03</td>\n",
       "      <td>6000.000000</td>\n",
       "      <td>6000.000000</td>\n",
       "      <td>6000.000000</td>\n",
       "      <td>6000.000000</td>\n",
       "      <td>6000.000000</td>\n",
       "      <td>6000.000000</td>\n",
       "      <td>6000.000000</td>\n",
       "    </tr>\n",
       "    <tr>\n",
       "      <th>mean</th>\n",
       "      <td>1.131849e+09</td>\n",
       "      <td>1527.440234</td>\n",
       "      <td>204.571435</td>\n",
       "      <td>187.408314</td>\n",
       "      <td>2937.869143</td>\n",
       "      <td>1.779829</td>\n",
       "      <td>0.609333</td>\n",
       "      <td>0.390667</td>\n",
       "    </tr>\n",
       "    <tr>\n",
       "      <th>std</th>\n",
       "      <td>3.171981e+06</td>\n",
       "      <td>1319.213735</td>\n",
       "      <td>375.027578</td>\n",
       "      <td>1488.282964</td>\n",
       "      <td>2663.562766</td>\n",
       "      <td>2.684282</td>\n",
       "      <td>0.487940</td>\n",
       "      <td>0.487940</td>\n",
       "    </tr>\n",
       "    <tr>\n",
       "      <th>min</th>\n",
       "      <td>1.126403e+09</td>\n",
       "      <td>9.780000</td>\n",
       "      <td>10.072000</td>\n",
       "      <td>7.501000</td>\n",
       "      <td>1.259180</td>\n",
       "      <td>0.010000</td>\n",
       "      <td>0.000000</td>\n",
       "      <td>0.000000</td>\n",
       "    </tr>\n",
       "    <tr>\n",
       "      <th>25%</th>\n",
       "      <td>1.128874e+09</td>\n",
       "      <td>256.501000</td>\n",
       "      <td>34.175000</td>\n",
       "      <td>10.360500</td>\n",
       "      <td>425.750580</td>\n",
       "      <td>0.222750</td>\n",
       "      <td>0.000000</td>\n",
       "      <td>0.000000</td>\n",
       "    </tr>\n",
       "    <tr>\n",
       "      <th>50%</th>\n",
       "      <td>1.132150e+09</td>\n",
       "      <td>1228.915000</td>\n",
       "      <td>111.128000</td>\n",
       "      <td>15.430000</td>\n",
       "      <td>2287.861206</td>\n",
       "      <td>0.767000</td>\n",
       "      <td>1.000000</td>\n",
       "      <td>0.000000</td>\n",
       "    </tr>\n",
       "    <tr>\n",
       "      <th>75%</th>\n",
       "      <td>1.134567e+09</td>\n",
       "      <td>2627.853750</td>\n",
       "      <td>183.495000</td>\n",
       "      <td>37.026500</td>\n",
       "      <td>5195.882568</td>\n",
       "      <td>2.154500</td>\n",
       "      <td>1.000000</td>\n",
       "      <td>1.000000</td>\n",
       "    </tr>\n",
       "    <tr>\n",
       "      <th>max</th>\n",
       "      <td>1.137250e+09</td>\n",
       "      <td>4615.132000</td>\n",
       "      <td>2047.106000</td>\n",
       "      <td>81178.727000</td>\n",
       "      <td>7946.482910</td>\n",
       "      <td>42.156000</td>\n",
       "      <td>1.000000</td>\n",
       "      <td>1.000000</td>\n",
       "    </tr>\n",
       "  </tbody>\n",
       "</table>\n",
       "</div>"
      ],
      "text/plain": [
       "            GPStime  centralFreq     peakFreq           snr    bandwidth  \\\n",
       "count  6.000000e+03  6000.000000  6000.000000   6000.000000  6000.000000   \n",
       "mean   1.131849e+09  1527.440234   204.571435    187.408314  2937.869143   \n",
       "std    3.171981e+06  1319.213735   375.027578   1488.282964  2663.562766   \n",
       "min    1.126403e+09     9.780000    10.072000      7.501000     1.259180   \n",
       "25%    1.128874e+09   256.501000    34.175000     10.360500   425.750580   \n",
       "50%    1.132150e+09  1228.915000   111.128000     15.430000  2287.861206   \n",
       "75%    1.134567e+09  2627.853750   183.495000     37.026500  5195.882568   \n",
       "max    1.137250e+09  4615.132000  2047.106000  81178.727000  7946.482910   \n",
       "\n",
       "          duration       ifo_H1       ifo_L1  \n",
       "count  6000.000000  6000.000000  6000.000000  \n",
       "mean      1.779829     0.609333     0.390667  \n",
       "std       2.684282     0.487940     0.487940  \n",
       "min       0.010000     0.000000     0.000000  \n",
       "25%       0.222750     0.000000     0.000000  \n",
       "50%       0.767000     1.000000     0.000000  \n",
       "75%       2.154500     1.000000     1.000000  \n",
       "max      42.156000     1.000000     1.000000  "
      ]
     },
     "execution_count": 43,
     "metadata": {},
     "output_type": "execute_result"
    }
   ],
   "source": [
    "data_normal.describe()"
   ]
  },
  {
   "cell_type": "markdown",
   "metadata": {},
   "source": [
    "Now we get rid of the the columns of datatype 'object'. Column 'id' can be deleted directly as that is unique for each entry so it is not correlation between it and labels. Column 'ifo' will be one-hot encoded and then we will remove it."
   ]
  },
  {
   "cell_type": "markdown",
   "metadata": {},
   "source": [
    "Now we can use all of the above features in our model prediction but we can do feature selection in case we have limited computational resources."
   ]
  },
  {
   "cell_type": "markdown",
   "metadata": {},
   "source": [
    "### Feature Selection"
   ]
  },
  {
   "cell_type": "markdown",
   "metadata": {},
   "source": [
    "#### Feature Selection using mutual information gain"
   ]
  },
  {
   "cell_type": "code",
   "execution_count": 44,
   "metadata": {},
   "outputs": [],
   "source": [
    "mutual_info_RS = pd.Series(mutual_info_classif(data_RS, labels), index = data_RS.columns).sort_values(ascending = False)\n",
    "mutual_info_QT = pd.Series(mutual_info_classif(data_QT, labels), index = data_QT.columns).sort_values(ascending = False)\n",
    "mutual_info_QTN = pd.Series(mutual_info_classif(data_QTN, labels), index = data_QT.columns).sort_values(ascending = False)\n",
    "mutual_info_normal = pd.Series(mutual_info_classif(data_normal, labels), index = data_normal.columns).sort_values(ascending = False)"
   ]
  },
  {
   "cell_type": "code",
   "execution_count": 47,
   "metadata": {},
   "outputs": [
    {
     "data": {
      "image/png": "[encoded data removed]",
      "text/plain": [
       "<Figure size 1440x1296 with 4 Axes>"
      ]
     },
     "metadata": {},
     "output_type": "display_data"
    }
   ],
   "source": [
    "plts = [mutual_info_normal, mutual_info_RS, mutual_info_QT, mutual_info_QTN]\n",
    "plts_name = ['Regular', 'Robust Scaler', 'Quantile Transformer Uniform', 'Quantile Transformer Normal']\n",
    "plt.figure(figsize=(20,18))\n",
    "for i in range(4):\n",
    "    plt.subplot(2, 2, i+1)\n",
    "    sns.set_style('white')\n",
    "    sns.set_palette('Set2')\n",
    "    sns.barplot(x = plts[i].index, y = plts[i].values)\n",
    "    plt.title('Feature importance by mututal\\ninformation gain by ' + plts_name[i])\n",
    "    plt.xticks(rotation = 45)\n",
    "    sns.despine()\n",
    "    plt.ylabel('Mututal Information Gain')\n",
    "plt.show()"
   ]
  },
  {
   "cell_type": "markdown",
   "metadata": {},
   "source": [
    "As we can see that if we wanted to reduce number of features we can remove columns 'ifo_L1' and 'ifo_H1' as they have very less mutual information gain value."
   ]
  },
  {
   "cell_type": "markdown",
   "metadata": {},
   "source": [
    "#### Feature selection using Chi-squared"
   ]
  },
  {
   "cell_type": "markdown",
   "metadata": {},
   "source": [
    "As Chi-Squared feature selection method does not take negeative values only possible data we can use to check it are <i>data_QT, data_QTN</i>"
   ]
  },
  {
   "cell_type": "code",
   "execution_count": 48,
   "metadata": {},
   "outputs": [],
   "source": [
    "chi_QT = pd.Series(chi2(data_QT, labels)[0], index = data_QT.columns).sort_values(ascending = False)\n",
    "chi_normal = pd.Series(chi2(data_normal, labels)[0], index = data_normal.columns).sort_values(ascending = False)"
   ]
  },
  {
   "cell_type": "code",
   "execution_count": 49,
   "metadata": {},
   "outputs": [
    {
     "data": {
      "image/png": "[encoded data removed]",
      "text/plain": [
       "<Figure size 1440x576 with 2 Axes>"
      ]
     },
     "metadata": {},
     "output_type": "display_data"
    }
   ],
   "source": [
    "plts = [chi_normal, chi_QT]\n",
    "plts_name = ['Regular', 'Quantile Transformer Uniform']\n",
    "plt.figure(figsize=(20,8))\n",
    "for i in range(2):\n",
    "    plt.subplot(1, 2, i+1)\n",
    "    sns.set_style('white')\n",
    "    sns.set_palette('Set2')\n",
    "    sns.barplot(x = plts[i].index, y = plts[i].values)\n",
    "    plt.title('Feature importance by Chi Squared by ' + plts_name[i])\n",
    "    plt.xticks(rotation = 45)\n",
    "    sns.despine()\n",
    "    plt.ylabel('Mututal Information Gain')\n",
    "plt.show()"
   ]
  },
  {
   "cell_type": "markdown",
   "metadata": {},
   "source": [
    "Here we see that the method <b><i>mutual_info_classif</i></b> supports the idea of dropping <i>'ifo'</i> column where are the method <b><i>chi_2</i></b> does not support it. Similar is the case for the column <i>'GPStime'</i>, <b><i>mutual_info_classif</i></b> supports its existence whereas <b><i>chi_2</i></b> asks us to delete it. So as the number of features are less we will not make any changes to the data"
   ]
  },
  {
   "cell_type": "markdown",
   "metadata": {},
   "source": [
    "### Classification"
   ]
  },
  {
   "cell_type": "markdown",
   "metadata": {},
   "source": [
    "#### Random Forest"
   ]
  },
  {
   "cell_type": "markdown",
   "metadata": {},
   "source": [
    "<b>Note :</b> Cannot use <i>train_test_split</i> as there are couple of columns which has just 1 time appearance in class labels. "
   ]
  },
  {
   "cell_type": "code",
   "execution_count": 51,
   "metadata": {},
   "outputs": [],
   "source": [
    "no_of_split = 5\n",
    "skf = StratifiedKFold(n_splits = no_of_split, shuffle = True, random_state = 0)\n",
    "file_names = []\n",
    "for i in range(no_of_split):\n",
    "    file_names.append('random_forest_'+str(i+1))"
   ]
  },
  {
   "cell_type": "code",
   "execution_count": 68,
   "metadata": {},
   "outputs": [
    {
     "name": "stdout",
     "output_type": "stream",
     "text": [
      "0.8267661854736662\n",
      "Done Split 1\n",
      "0.808149086090409\n",
      "Done Split 2\n",
      "0.7482097203506778\n",
      "Done Split 3\n",
      "0.7930596436396503\n",
      "Done Split 4\n",
      "0.7742159834466255\n",
      "Done Split 5\n",
      "\n",
      "Scores of each split is : 0.8267661854736662, 0.808149086090409, 0.7482097203506778, 0.7930596436396503, 0.7742159834466255, "
     ]
    }
   ],
   "source": [
    "file_names = []\n",
    "for i in range(no_of_split):\n",
    "    file_names.append('random_forest_'+str(i+1))\n",
    "count = 1\n",
    "random_forest_normal_scores = []\n",
    "for train_index, test_index in skf.split(data,labels):\n",
    "    X_train, X_test, y_train, y_test = data_normal.iloc[train_index, :], data_normal.iloc[test_index, :], labels[train_index], labels[test_index]\n",
    "    parameters = {\n",
    "    'criterion' : ['gini', 'entropy'],\n",
    "    'max_features' : ['none', 'sqrt', 'log2'],\n",
    "    'n_estimators' : [10, 100, 1000]\n",
    "    }\n",
    "    model = RandomForestClassifier()\n",
    "    clf = GridSearchCV(estimator = model, param_grid = parameters, scoring = 'f1_macro', cv = 10, n_jobs = -1)\n",
    "    clf.fit(X_train, y_train)\n",
    "    pred = clf.predict(X_test)\n",
    "    print(f1_score(y_test, pred, average='macro'))\n",
    "    random_forest_normal_scores.append(f1_score(y_test, pred, average = 'macro'))\n",
    "    file = open('Models/Random Forest/Normal/' + file_names[count - 1] + '.sav', 'wb')\n",
    "    pickle.dump(clf, file)\n",
    "    file.close()\n",
    "    print(f'Done Split {count}')\n",
    "    count = count + 1\n",
    "print('\\nScores of each split is : ', end = '')\n",
    "for i in random_forest_normal_scores:\n",
    "    print(i, end = ', ')"
   ]
  },
  {
   "cell_type": "markdown",
   "metadata": {},
   "source": [
    "Robust Scaler"
   ]
  },
  {
   "cell_type": "code",
   "execution_count": 23,
   "metadata": {},
   "outputs": [
    {
     "name": "stdout",
     "output_type": "stream",
     "text": [
      "Done Split 1\n",
      "Done Split 2\n",
      "Done Split 3\n",
      "Done Split 4\n",
      "Done Split 5\n",
      "\n",
      "Scores of each split is : 0.8244508508169558, 0.8003495049502072, 0.743100216621821, 0.792742298600163, 0.7714929113655766, "
     ]
    }
   ],
   "source": [
    "random_forest_RS_scores = []\n",
    "count = 1\n",
    "for train_index, test_index in skf.split(data, labels):\n",
    "    X_train, X_test, y_train, y_test = data_RS.iloc[train_index, :], data_RS.iloc[test_index, :], labels[train_index], labels[test_index]\n",
    "    parameters = {\n",
    "        'criterion' : ['gini', 'entropy'],\n",
    "        'max_features' : ['none', 'sqrt', 'log2'],\n",
    "        'n_estimators' : [10, 100, 1000]\n",
    "        }\n",
    "    model = RandomForestClassifier()\n",
    "    clf = GridSearchCV(estimator = model, param_grid = parameters, scoring = 'f1_macro', cv = 10, n_jobs = -1)\n",
    "    clf.fit(X_train, y_train)\n",
    "    pred = clf.predict(X_test)\n",
    "    random_forest_RS_scores.append(f1_score(y_test, pred, average = 'macro'))\n",
    "    file = open('Models/Random Forest/Robust Scaler/' + file_names[count - 1] + '.sav', 'wb')\n",
    "    pickle.dump(clf, file)\n",
    "    file.close()\n",
    "    print(f'Done Split {count}')\n",
    "    count = count + 1\n",
    "print('\\nScores of each split is : ', end = '')\n",
    "for i in random_forest_RS_scores:\n",
    "    print(i, end = ', ')"
   ]
  },
  {
   "cell_type": "markdown",
   "metadata": {},
   "source": [
    "Quantile Transformer - Uniform Distribution"
   ]
  },
  {
   "cell_type": "code",
   "execution_count": 24,
   "metadata": {},
   "outputs": [
    {
     "name": "stdout",
     "output_type": "stream",
     "text": [
      "Done Split 1\n",
      "Done Split 2\n",
      "Done Split 3\n",
      "Done Split 4\n",
      "Done Split 5\n",
      "\n",
      "Scores of each split is : 0.825889684119929, 0.8059281629410282, 0.7450018991395059, 0.7901015097327487, 0.7793649589579743, "
     ]
    }
   ],
   "source": [
    "random_forest_QT_scores = []\n",
    "count = 1\n",
    "for train_index, test_index in skf.split(data, labels):\n",
    "    X_train, X_test, y_train, y_test = data_QT.iloc[train_index, :], data_QT.iloc[test_index, :], labels[train_index], labels[test_index]\n",
    "    parameters = {\n",
    "        'criterion' : ['gini', 'entropy'],\n",
    "        'max_features' : ['none', 'sqrt', 'log2'],\n",
    "        'n_estimators' : [10, 100, 1000]\n",
    "        }\n",
    "    model = RandomForestClassifier()\n",
    "    clf = GridSearchCV(estimator = model, param_grid = parameters, scoring = 'f1_macro', cv = 10, n_jobs = -1)\n",
    "    clf.fit(X_train, y_train)\n",
    "    pred = clf.predict(X_test)\n",
    "    random_forest_QT_scores.append(f1_score(y_test, pred, average = 'macro'))\n",
    "    file = open('Models/Random Forest/Quantile Transformer/' + file_names[count - 1] + '.sav', 'wb')\n",
    "    pickle.dump(clf, file)\n",
    "    file.close()\n",
    "    print(f'Done Split {count}')\n",
    "    count = count + 1\n",
    "print('\\nScores of each split is : ', end = '')\n",
    "for i in random_forest_QT_scores:\n",
    "    print(i, end = ', ')"
   ]
  },
  {
   "cell_type": "markdown",
   "metadata": {},
   "source": [
    "Quantile Transformer - Normal Distribbution"
   ]
  },
  {
   "cell_type": "code",
   "execution_count": 25,
   "metadata": {},
   "outputs": [
    {
     "name": "stdout",
     "output_type": "stream",
     "text": [
      "Done Split 1\n",
      "Done Split 2\n",
      "Done Split 3\n",
      "Done Split 4\n",
      "Done Split 5\n",
      "\n",
      "Scores of each split is : 0.8279485275228512, 0.8061855867471338, 0.7509015611006156, 0.7895931194481719, 0.7743959443808336, "
     ]
    }
   ],
   "source": [
    "random_forest_QTN_scores = []\n",
    "count = 1\n",
    "for train_index, test_index in skf.split(data, labels):\n",
    "    X_train, X_test, y_train, y_test = data_QTN.iloc[train_index, :], data_QTN.iloc[test_index, :], labels[train_index], labels[test_index]\n",
    "    parameters = {\n",
    "        'criterion' : ['gini', 'entropy'],\n",
    "        'max_features' : ['none', 'sqrt', 'log2'],\n",
    "        'n_estimators' : [10, 100, 1000]\n",
    "        }\n",
    "    model = RandomForestClassifier()\n",
    "    clf = GridSearchCV(estimator = model, param_grid = parameters, scoring = 'f1_macro', cv = 10, n_jobs = -1)\n",
    "    clf.fit(X_train, y_train)\n",
    "    pred = clf.predict(X_test)\n",
    "    random_forest_QTN_scores.append(f1_score(y_test, pred, average = 'macro'))\n",
    "    file = open('Models/Random Forest/Quantile Transformer Normal/' + file_names[count - 1] + '.sav', 'wb')\n",
    "    pickle.dump(clf, file)\n",
    "    file.close()\n",
    "    print(f'Done Split {count}')\n",
    "    count = count + 1\n",
    "print('\\nScores of each split is : ', end = '')\n",
    "for i in random_forest_QTN_scores:\n",
    "    print(i, end = ', ')"
   ]
  },
  {
   "cell_type": "markdown",
   "metadata": {},
   "source": [
    "#### Support Vector Machines"
   ]
  },
  {
   "cell_type": "code",
   "execution_count": 38,
   "metadata": {},
   "outputs": [],
   "source": [
    "file_names = []\n",
    "for i in range(no_of_split):\n",
    "    file_names.append('svc_'+str(i+1))"
   ]
  },
  {
   "cell_type": "markdown",
   "metadata": {},
   "source": [
    "Robust Scaler"
   ]
  },
  {
   "cell_type": "code",
   "execution_count": 39,
   "metadata": {},
   "outputs": [
    {
     "name": "stdout",
     "output_type": "stream",
     "text": [
      "Done Split 1\n",
      "Done Split 2\n",
      "Done Split 3\n",
      "Done Split 4\n",
      "Done Split 5\n",
      "\n",
      "Scores of each split is : 0.6245648845391332, 0.6087979181644697, 0.5930163868745602, 0.5958714337781486, 0.5982174508482621, "
     ]
    }
   ],
   "source": [
    "svc_RS_scores = []\n",
    "count = 1\n",
    "for train_index, test_index in skf.split(data, labels):\n",
    "    X_train, X_test, y_train, y_test = data_RS.iloc[train_index, :], data_RS.iloc[test_index, :], labels[train_index], labels[test_index]\n",
    "    parameters = {\n",
    "        'kernel' : ['linear', 'rbf', 'poly'],\n",
    "        'degree' : [2, 3],\n",
    "        'C' : [0.01, 0.1, 1, 10, 50]\n",
    "        }\n",
    "    model = SVC(random_state = 0)\n",
    "    clf = GridSearchCV(estimator = model, param_grid = parameters, scoring = 'f1_macro', cv = 10, n_jobs = -1)\n",
    "    clf.fit(X_train, y_train)\n",
    "    pred = clf.predict(X_test)\n",
    "    svc_RS_scores.append(f1_score(y_test, pred, average = 'macro'))\n",
    "    file = open('Models/Support Vector Machines/Robust Scaler/' + file_names[count - 1] + '.sav', 'wb')\n",
    "    pickle.dump(clf, file)\n",
    "    file.close()\n",
    "    print(f'Done Split {count}')\n",
    "    count = count + 1\n",
    "print('\\nScores of each split is : ', end = '')\n",
    "for i in svc_RS_scores:\n",
    "    print(i, end = ', ')"
   ]
  },
  {
   "cell_type": "markdown",
   "metadata": {},
   "source": [
    "Quantile Transformer - Uniform Distribution"
   ]
  },
  {
   "cell_type": "code",
   "execution_count": 40,
   "metadata": {},
   "outputs": [
    {
     "name": "stdout",
     "output_type": "stream",
     "text": [
      "Done Split 1\n",
      "Done Split 2\n",
      "Done Split 3\n",
      "Done Split 4\n",
      "Done Split 5\n",
      "\n",
      "Scores of each split is : 0.7723380154725061, 0.754805038945377, 0.7250175105473554, 0.7341042308152855, 0.7166340185682176, "
     ]
    }
   ],
   "source": [
    "svc_QT_scores = []\n",
    "count = 1\n",
    "for train_index, test_index in skf.split(data, labels):\n",
    "    X_train, X_test, y_train, y_test = data_QT.iloc[train_index, :], data_QT.iloc[test_index, :], labels[train_index], labels[test_index]\n",
    "    parameters = {\n",
    "        'kernel' : ['linear', 'rbf', 'poly'],\n",
    "        'degree' : [2, 3],\n",
    "        'C' : [0.01, 0.1, 1, 10, 50]\n",
    "        }\n",
    "    model = SVC(random_state = 0)\n",
    "    clf = GridSearchCV(estimator = model, param_grid = parameters, scoring = 'f1_macro', cv = 10, n_jobs = -1)\n",
    "    clf.fit(X_train, y_train)\n",
    "    pred = clf.predict(X_test)\n",
    "    svc_QT_scores.append(f1_score(y_test, pred, average = 'macro'))\n",
    "    file = open('Models/Support Vector Machines/Quantile Transformer/' + file_names[count - 1] + '.sav', 'wb')\n",
    "    pickle.dump(clf, file)\n",
    "    file.close()\n",
    "    print(f'Done Split {count}')\n",
    "    count = count + 1\n",
    "print('\\nScores of each split is : ', end = '')\n",
    "for i in svc_QT_scores:\n",
    "    print(i, end = ', ')"
   ]
  },
  {
   "cell_type": "markdown",
   "metadata": {},
   "source": [
    "Quantile Transformer - Normal Distribbution"
   ]
  },
  {
   "cell_type": "code",
   "execution_count": 41,
   "metadata": {},
   "outputs": [
    {
     "name": "stdout",
     "output_type": "stream",
     "text": [
      "Done Split 1\n",
      "Done Split 2\n",
      "Done Split 3\n",
      "Done Split 4\n",
      "Done Split 5\n",
      "\n",
      "Scores of each split is : 0.7727235148609145, 0.7492345835355618, 0.7354970031686595, 0.7470116161593487, 0.6854013573763176, "
     ]
    }
   ],
   "source": [
    "svc_QTN_scores = []\n",
    "count = 1\n",
    "for train_index, test_index in skf.split(data, labels):\n",
    "    X_train, X_test, y_train, y_test = data_QTN.iloc[train_index, :], data_QTN.iloc[test_index, :], labels[train_index], labels[test_index]\n",
    "    parameters = {\n",
    "        'kernel' : ['linear', 'rbf', 'poly'],\n",
    "        'degree' : [2, 3],\n",
    "        'C' : [0.01, 0.1, 1, 10, 50]\n",
    "        }\n",
    "    model = SVC(random_state = 0)\n",
    "    clf = GridSearchCV(estimator = model, param_grid = parameters, scoring = 'f1_macro', cv = 10, n_jobs = -1)\n",
    "    clf.fit(X_train, y_train)\n",
    "    pred = clf.predict(X_test)\n",
    "    svc_QTN_scores.append(f1_score(y_test, pred, average = 'macro'))\n",
    "    file = open('Models/Support Vector Machines/Quantile Transformer Normal/' + file_names[count - 1] + '.sav', 'wb')\n",
    "    pickle.dump(clf, file)\n",
    "    file.close()\n",
    "    print(f'Done Split {count}')\n",
    "    count = count + 1\n",
    "print('\\nScores of each split is : ', end = '')\n",
    "for i in svc_QTN_scores:\n",
    "    print(i, end = ', ')"
   ]
  },
  {
   "cell_type": "markdown",
   "metadata": {},
   "source": [
    "#### Bagging Classifier"
   ]
  },
  {
   "cell_type": "code",
   "execution_count": 70,
   "metadata": {},
   "outputs": [],
   "source": [
    "file_names = []\n",
    "for i in range(no_of_split):\n",
    "    file_names.append('bagging_'+str(i+1))"
   ]
  },
  {
   "cell_type": "markdown",
   "metadata": {},
   "source": [
    "Normal"
   ]
  },
  {
   "cell_type": "code",
   "execution_count": 71,
   "metadata": {},
   "outputs": [
    {
     "name": "stdout",
     "output_type": "stream",
     "text": [
      "Done Split 1\n",
      "Done Split 2\n",
      "Done Split 3\n",
      "Done Split 4\n",
      "Done Split 5\n",
      "\n",
      "Scores of each split is : 0.8365370080558134, 0.8231907337438344, 0.7486234718650551, 0.8033784420368469, 0.7724516354903588, "
     ]
    }
   ],
   "source": [
    "bagging_normal_scores = []\n",
    "count = 1\n",
    "for train_index, test_index in skf.split(data, labels):\n",
    "    X_train, X_test, y_train, y_test = data_normal.iloc[train_index, :], data_normal.iloc[test_index, :], labels[train_index], labels[test_index]\n",
    "    parameters = {\n",
    "        'max_features' : [0.7, 1.0],\n",
    "        'n_estimators' : [10, 100, 1000],\n",
    "        'max_samples' : [0.7, 1.0]\n",
    "        }\n",
    "    model = BaggingClassifier(random_state = 0, n_jobs= -1)\n",
    "    clf = GridSearchCV(estimator = model, param_grid = parameters, scoring = 'f1_macro', cv = 10, n_jobs = -1)\n",
    "    clf.fit(X_train, y_train)\n",
    "    pred = clf.predict(X_test)\n",
    "    bagging_normal_scores.append(f1_score(y_test, pred, average = 'macro'))\n",
    "    file = open('Models/Bagging Classifier/Normal/' + file_names[count - 1] + '.sav', 'wb')\n",
    "    pickle.dump(clf, file)\n",
    "    file.close()\n",
    "    print(f'Done Split {count}')\n",
    "    count = count + 1\n",
    "print('\\nScores of each split is : ', end = '')\n",
    "for i in bagging_normal_scores:\n",
    "    print(i, end = ', ')"
   ]
  },
  {
   "cell_type": "markdown",
   "metadata": {},
   "source": [
    "Robust Scaler"
   ]
  },
  {
   "cell_type": "code",
   "execution_count": 24,
   "metadata": {},
   "outputs": [
    {
     "name": "stdout",
     "output_type": "stream",
     "text": [
      "Done Split 1\n",
      "Done Split 2\n",
      "Done Split 3\n",
      "Done Split 4\n",
      "Done Split 5\n",
      "\n",
      "Scores of each split is : 0.8360429875687869, 0.8269225432186679, 0.7498811783314647, 0.803823062127201, 0.769299936822959, "
     ]
    }
   ],
   "source": [
    "bagging_RS_scores = []\n",
    "count = 1\n",
    "for train_index, test_index in skf.split(data, labels):\n",
    "    X_train, X_test, y_train, y_test = data_RS.iloc[train_index, :], data_RS.iloc[test_index, :], labels[train_index], labels[test_index]\n",
    "    parameters = {\n",
    "        'max_features' : [0.7, 1.0],\n",
    "        'n_estimators' : [10, 100, 1000],\n",
    "        'max_samples' : [0.7, 1.0]\n",
    "        }\n",
    "    model = BaggingClassifier(random_state = 0, n_jobs= -1)\n",
    "    clf = GridSearchCV(estimator = model, param_grid = parameters, scoring = 'f1_macro', cv = 10, n_jobs = -1)\n",
    "    clf.fit(X_train, y_train)\n",
    "    pred = clf.predict(X_test)\n",
    "    bagging_RS_scores.append(f1_score(y_test, pred, average = 'macro'))\n",
    "    file = open('Models/Bagging Classifier/Robust Scaler/' + file_names[count - 1] + '.sav', 'wb')\n",
    "    pickle.dump(clf, file)\n",
    "    file.close()\n",
    "    print(f'Done Split {count}')\n",
    "    count = count + 1\n",
    "print('\\nScores of each split is : ', end = '')\n",
    "for i in bagging_RS_scores:\n",
    "    print(i, end = ', ')"
   ]
  },
  {
   "cell_type": "markdown",
   "metadata": {},
   "source": [
    "Quantile Transformer - Uniform Distribution"
   ]
  },
  {
   "cell_type": "code",
   "execution_count": 25,
   "metadata": {},
   "outputs": [
    {
     "name": "stdout",
     "output_type": "stream",
     "text": [
      "Done Split 1\n",
      "Done Split 2\n",
      "Done Split 3\n",
      "Done Split 4\n",
      "Done Split 5\n",
      "\n",
      "Scores of each split is : 0.8386197936869129, 0.8284911144145458, 0.7527836776766518, 0.8036526260530668, 0.8000597636463372, "
     ]
    }
   ],
   "source": [
    "bagging_QT_scores = []\n",
    "count = 1\n",
    "for train_index, test_index in skf.split(data, labels):\n",
    "    X_train, X_test, y_train, y_test = data_QT.iloc[train_index, :], data_QT.iloc[test_index, :], labels[train_index], labels[test_index]\n",
    "    parameters = {\n",
    "        'max_features' : [0.7, 1.0],\n",
    "        'n_estimators' : [10, 100, 1000],\n",
    "        'max_samples' : [0.7, 1.0]\n",
    "        }\n",
    "    model = BaggingClassifier(random_state = 0, n_jobs= -1)\n",
    "    clf = GridSearchCV(estimator = model, param_grid = parameters, scoring = 'f1_macro', cv = 10, n_jobs = -1)\n",
    "    clf.fit(X_train, y_train)\n",
    "    pred = clf.predict(X_test)\n",
    "    bagging_QT_scores.append(f1_score(y_test, pred, average = 'macro'))\n",
    "    file = open('Models/Bagging Classifier/Quantile Transformer/' + file_names[count - 1] + '.sav', 'wb')\n",
    "    pickle.dump(clf, file)\n",
    "    file.close()\n",
    "    print(f'Done Split {count}')\n",
    "    count = count + 1\n",
    "print('\\nScores of each split is : ', end = '')\n",
    "for i in bagging_QT_scores:\n",
    "    print(i, end = ', ')"
   ]
  },
  {
   "cell_type": "markdown",
   "metadata": {},
   "source": [
    "Quantile Transformer - Normal Distribbution"
   ]
  },
  {
   "cell_type": "code",
   "execution_count": 26,
   "metadata": {},
   "outputs": [
    {
     "name": "stdout",
     "output_type": "stream",
     "text": [
      "Done Split 1\n",
      "Done Split 2\n",
      "Done Split 3\n",
      "Done Split 4\n",
      "Done Split 5\n",
      "\n",
      "Scores of each split is : 0.8358448355366741, 0.8063329696814531, 0.7522335820902366, 0.8013153150828319, 0.7700670657200466, "
     ]
    }
   ],
   "source": [
    "bagging_QTN_scores = []\n",
    "count = 1\n",
    "for train_index, test_index in skf.split(data, labels):\n",
    "    X_train, X_test, y_train, y_test = data_QTN.iloc[train_index, :], data_QTN.iloc[test_index, :], labels[train_index], labels[test_index]\n",
    "    parameters = {\n",
    "        'max_features' : [0.7, 1.0],\n",
    "        'n_estimators' : [10, 100, 1000],\n",
    "        'max_samples' : [0.7, 1.0]\n",
    "        }\n",
    "    model = BaggingClassifier(random_state = 0, n_jobs= -1)\n",
    "    clf = GridSearchCV(estimator = model, param_grid = parameters, scoring = 'f1_macro', cv = 10, n_jobs = -1)\n",
    "    clf.fit(X_train, y_train)\n",
    "    pred = clf.predict(X_test)\n",
    "    bagging_QTN_scores.append(f1_score(y_test, pred, average = 'macro'))\n",
    "    file = open('Models/Bagging Classifier/Quantile Transformer Normal/' + file_names[count - 1] + '.sav', 'wb')\n",
    "    pickle.dump(clf, file)\n",
    "    file.close()\n",
    "    print(f'Done Split {count}')\n",
    "    count = count + 1\n",
    "print('\\nScores of each split is : ', end = '')\n",
    "for i in bagging_QTN_scores:\n",
    "    print(i, end = ', ')"
   ]
  },
  {
   "cell_type": "markdown",
   "metadata": {},
   "source": [
    "### Model Evaluation"
   ]
  },
  {
   "cell_type": "markdown",
   "metadata": {},
   "source": [
    "#### Random Forest"
   ]
  },
  {
   "cell_type": "markdown",
   "metadata": {},
   "source": [
    "Normal"
   ]
  },
  {
   "cell_type": "code",
   "execution_count": 50,
   "metadata": {},
   "outputs": [
    {
     "name": "stdout",
     "output_type": "stream",
     "text": [
      "Model 1 : 97.0776%\n",
      "Model 2 : 96.6982%\n",
      "Model 3 : 95.8993%\n",
      "Model 4 : 96.6131%\n",
      "Model 5 : 95.9507%\n"
     ]
    },
    {
     "data": {
      "image/png": "[encoded data removed]",
      "text/plain": [
       "<Figure size 720x720 with 1 Axes>"
      ]
     },
     "metadata": {},
     "output_type": "display_data"
    }
   ],
   "source": [
    "path = 'Models/Random Forest/Normal/'\n",
    "rfNormalScores = []\n",
    "modelNames = []\n",
    "j = 1\n",
    "for i in os.listdir(path):\n",
    "    model_path = path + str(i)\n",
    "    with open(model_path, 'rb') as f:\n",
    "        model = pickle.load(f)\n",
    "        pred = model.predict(data_normal)\n",
    "    f1 = f1_score(labels, pred, average = 'macro')\n",
    "    rfNormalScores.append(f1)\n",
    "    modelNames.append('Model ' + str(j))\n",
    "    print(f'Model {j} : {round(f1*100, 4)}%')\n",
    "    j += 1\n",
    "Figure = plt.figure(figsize=(10,10))\n",
    "plt.bar(modelNames, rfNormalScores, color=['aquamarine', 'turquoise', 'lightseagreen', 'mediumturquoise', 'paleturquoise'])\n",
    "plt.show()"
   ]
  },
  {
   "cell_type": "markdown",
   "metadata": {},
   "source": [
    "Robust Scaler"
   ]
  },
  {
   "cell_type": "code",
   "execution_count": 51,
   "metadata": {},
   "outputs": [
    {
     "name": "stdout",
     "output_type": "stream",
     "text": [
      "Model 1 : 97.0656%\n",
      "Model 2 : 96.6011%\n",
      "Model 3 : 95.824%\n",
      "Model 4 : 96.0727%\n",
      "Model 5 : 95.9153%\n"
     ]
    },
    {
     "data": {
      "image/png": "[encoded data removed]",
      "text/plain": [
       "<Figure size 720x720 with 1 Axes>"
      ]
     },
     "metadata": {},
     "output_type": "display_data"
    }
   ],
   "source": [
    "path = 'Models/Random Forest/Robust Scaler/'\n",
    "rfRsScores = []\n",
    "modelNames = []\n",
    "j = 1\n",
    "for i in os.listdir(path):\n",
    "    model_path = path + str(i)\n",
    "    with open(model_path, 'rb') as f:\n",
    "        model = pickle.load(f)\n",
    "        pred = model.predict(data_RS)\n",
    "    f1 = f1_score(labels, pred, average = 'macro')\n",
    "    rfRsScores.append(f1)\n",
    "    modelNames.append('Model ' + str(j))\n",
    "    print(f'Model {j} : {round(f1*100, 4)}%')\n",
    "    j += 1\n",
    "Figure = plt.figure(figsize=(10,10))\n",
    "plt.bar(modelNames, rfRsScores, color=['aquamarine', 'turquoise', 'lightseagreen', 'mediumturquoise', 'paleturquoise'])\n",
    "plt.show()"
   ]
  },
  {
   "cell_type": "markdown",
   "metadata": {},
   "source": [
    "Quantile transform Uniform"
   ]
  },
  {
   "cell_type": "code",
   "execution_count": 52,
   "metadata": {},
   "outputs": [
    {
     "name": "stdout",
     "output_type": "stream",
     "text": [
      "Model 1 : 97.0304%\n",
      "Model 2 : 96.6946%\n",
      "Model 3 : 95.8444%\n",
      "Model 4 : 96.5029%\n",
      "Model 5 : 96.0059%\n"
     ]
    },
    {
     "data": {
      "image/png": "[encoded data removed]",
      "text/plain": [
       "<Figure size 720x720 with 1 Axes>"
      ]
     },
     "metadata": {},
     "output_type": "display_data"
    }
   ],
   "source": [
    "path = 'Models/Random Forest/Quantile Transformer/'\n",
    "j = 1\n",
    "rfQtScores = []\n",
    "for i in os.listdir(path):\n",
    "    model_path = path + str(i)\n",
    "    with open(model_path, 'rb') as f:\n",
    "        model = pickle.load(f)\n",
    "        pred = model.predict(data_QT)\n",
    "        f1 = f1_score(labels, pred, average = 'macro')\n",
    "    rfQtScores.append(f1)\n",
    "    print(f'Model {j} : {round(f1*100, 4)}%')\n",
    "    j += 1\n",
    "Figure = plt.figure(figsize=(10,10))\n",
    "plt.bar(modelNames, rfQtScores, color=['aquamarine', 'turquoise', 'lightseagreen', 'mediumturquoise', 'paleturquoise'])\n",
    "plt.show()"
   ]
  },
  {
   "cell_type": "markdown",
   "metadata": {},
   "source": [
    "Quantile Transform Normal"
   ]
  },
  {
   "cell_type": "code",
   "execution_count": 53,
   "metadata": {},
   "outputs": [
    {
     "name": "stdout",
     "output_type": "stream",
     "text": [
      "Model 1 : 97.0698%\n",
      "Model 2 : 96.6842%\n",
      "Model 3 : 95.9328%\n",
      "Model 4 : 96.5071%\n",
      "Model 5 : 95.9621%\n"
     ]
    },
    {
     "data": {
      "image/png": "[encoded data removed]",
      "text/plain": [
       "<Figure size 720x720 with 1 Axes>"
      ]
     },
     "metadata": {},
     "output_type": "display_data"
    }
   ],
   "source": [
    "path = 'Models/Random Forest/Quantile Transformer Normal/'\n",
    "j = 1\n",
    "rfQtnScores = []\n",
    "for i in os.listdir(path):\n",
    "    model_path = path + str(i)\n",
    "    with open(model_path, 'rb') as f:\n",
    "        model = pickle.load(f)\n",
    "        pred = model.predict(data_QTN)\n",
    "        f1 = f1_score(labels, pred, average = 'macro')\n",
    "    print(f'Model {j} : {round(f1*100, 4)}%')\n",
    "    rfQtnScores.append(f1)\n",
    "    j += 1\n",
    "Figure = plt.figure(figsize=(10,10))\n",
    "plt.bar(modelNames, rfQtnScores, color=['aquamarine', 'turquoise', 'lightseagreen', 'mediumturquoise', 'paleturquoise'])\n",
    "plt.show()"
   ]
  },
  {
   "cell_type": "markdown",
   "metadata": {},
   "source": [
    "#### Support Vector Machines"
   ]
  },
  {
   "cell_type": "markdown",
   "metadata": {},
   "source": [
    "Robust Scaler"
   ]
  },
  {
   "cell_type": "code",
   "execution_count": 54,
   "metadata": {},
   "outputs": [
    {
     "name": "stdout",
     "output_type": "stream",
     "text": [
      "Model 1 : 61.8277%\n",
      "Model 2 : 60.294%\n",
      "Model 3 : 62.1419%\n",
      "Model 4 : 62.6074%\n",
      "Model 5 : 64.498%\n"
     ]
    },
    {
     "data": {
      "image/png": "[encoded data removed]",
      "text/plain": [
       "<Figure size 720x720 with 1 Axes>"
      ]
     },
     "metadata": {},
     "output_type": "display_data"
    }
   ],
   "source": [
    "path = 'Models/Support Vector Machines/Robust Scaler/'\n",
    "svmRsScores = []\n",
    "j = 1\n",
    "for i in os.listdir(path):\n",
    "    model_path = path + str(i)\n",
    "    with open(model_path, 'rb') as f:\n",
    "        model = pickle.load(f)\n",
    "        pred = model.predict(data_RS)\n",
    "        f1 = f1_score(labels, pred, average = 'macro')\n",
    "    print(f'Model {j} : {round(f1*100, 4)}%')\n",
    "    svmRsScores.append(f1)\n",
    "    j += 1\n",
    "Figure = plt.figure(figsize=(10,10))\n",
    "plt.bar(modelNames, svmRsScores, color=['aquamarine', 'turquoise', 'lightseagreen', 'mediumturquoise', 'paleturquoise'])\n",
    "plt.show()"
   ]
  },
  {
   "cell_type": "markdown",
   "metadata": {},
   "source": [
    "Quantile Transform Uniform"
   ]
  },
  {
   "cell_type": "code",
   "execution_count": 55,
   "metadata": {},
   "outputs": [
    {
     "name": "stdout",
     "output_type": "stream",
     "text": [
      "Model 1 : 84.2812%\n",
      "Model 2 : 80.6318%\n",
      "Model 3 : 80.5988%\n",
      "Model 4 : 82.9653%\n",
      "Model 5 : 80.282%\n"
     ]
    },
    {
     "data": {
      "image/png": "[encoded data removed]",
      "text/plain": [
       "<Figure size 720x720 with 1 Axes>"
      ]
     },
     "metadata": {},
     "output_type": "display_data"
    }
   ],
   "source": [
    "path = 'Models/Support Vector Machines/Quantile Transformer/'\n",
    "svmQtScores = []\n",
    "j = 1\n",
    "for i in os.listdir(path):\n",
    "    model_path = path + str(i)\n",
    "    with open(model_path, 'rb') as f:\n",
    "        model = pickle.load(f)\n",
    "        pred = model.predict(data_QT)\n",
    "        f1 = f1_score(labels, pred, average = 'macro')\n",
    "    print(f'Model {j} : {round(f1*100, 4)}%')\n",
    "    svmQtScores.append(f1)\n",
    "    j += 1\n",
    "Figure = plt.figure(figsize=(10,10))\n",
    "plt.bar(modelNames, svmQtScores, color=['aquamarine', 'turquoise', 'lightseagreen', 'mediumturquoise', 'paleturquoise'])\n",
    "plt.show()"
   ]
  },
  {
   "cell_type": "markdown",
   "metadata": {},
   "source": [
    "Quantile Transform Normal"
   ]
  },
  {
   "cell_type": "code",
   "execution_count": 56,
   "metadata": {},
   "outputs": [
    {
     "name": "stdout",
     "output_type": "stream",
     "text": [
      "Model 1 : 82.9134%\n",
      "Model 2 : 82.707%\n",
      "Model 3 : 82.6249%\n",
      "Model 4 : 83.0661%\n",
      "Model 5 : 81.6803%\n"
     ]
    },
    {
     "data": {
      "image/png": "[encoded data removed]",
      "text/plain": [
       "<Figure size 720x720 with 1 Axes>"
      ]
     },
     "metadata": {},
     "output_type": "display_data"
    }
   ],
   "source": [
    "path = 'Models/Support Vector Machines/Quantile Transformer Normal/'\n",
    "j = 1\n",
    "svmQtnScores = []\n",
    "for i in os.listdir(path):\n",
    "    model_path = path + str(i)\n",
    "    with open(model_path, 'rb') as f:\n",
    "        model = pickle.load(f)\n",
    "        pred = model.predict(data_QTN)\n",
    "        f1 = f1_score(labels, pred, average = 'macro')\n",
    "    print(f'Model {j} : {round(f1*100, 4)}%')\n",
    "    svmQtnScores.append(f1)\n",
    "    j += 1\n",
    "Figure = plt.figure(figsize=(10,10))\n",
    "plt.bar(modelNames, svmQtnScores, color=['aquamarine', 'turquoise', 'lightseagreen', 'mediumturquoise', 'paleturquoise'])\n",
    "plt.show()"
   ]
  },
  {
   "cell_type": "markdown",
   "metadata": {},
   "source": [
    "#### Bagging Classifier"
   ]
  },
  {
   "cell_type": "markdown",
   "metadata": {},
   "source": [
    "Normal"
   ]
  },
  {
   "cell_type": "code",
   "execution_count": 57,
   "metadata": {},
   "outputs": [
    {
     "name": "stdout",
     "output_type": "stream",
     "text": [
      "Model 1 : 97.2165%\n",
      "Model 2 : 96.9492%\n",
      "Model 3 : 95.9203%\n",
      "Model 4 : 96.8098%\n",
      "Model 5 : 95.999%\n"
     ]
    },
    {
     "data": {
      "image/png": "[encoded data removed]",
      "text/plain": [
       "<Figure size 720x720 with 1 Axes>"
      ]
     },
     "metadata": {},
     "output_type": "display_data"
    }
   ],
   "source": [
    "path = 'Models/Bagging Classifier/Normal/'\n",
    "bcNormalScores = []\n",
    "modelNames = []\n",
    "j = 1\n",
    "for i in os.listdir(path):\n",
    "    model_path = path + str(i)\n",
    "    with open(model_path, 'rb') as f:\n",
    "        model = pickle.load(f)\n",
    "        pred = model.predict(data_normal)\n",
    "    f1 = f1_score(labels, pred, average = 'macro')\n",
    "    bcNormalScores.append(f1)\n",
    "    modelNames.append('Model ' + str(j))\n",
    "    print(f'Model {j} : {round(f1*100, 4)}%')\n",
    "    j += 1\n",
    "Figure = plt.figure(figsize=(10,10))\n",
    "plt.bar(modelNames, bcNormalScores, color=['aquamarine', 'turquoise', 'lightseagreen', 'mediumturquoise', 'paleturquoise'])\n",
    "plt.show()"
   ]
  },
  {
   "cell_type": "markdown",
   "metadata": {},
   "source": [
    "Robust Scaler"
   ]
  },
  {
   "cell_type": "code",
   "execution_count": 58,
   "metadata": {},
   "outputs": [
    {
     "name": "stdout",
     "output_type": "stream",
     "text": [
      "Model 1 : 97.195%\n",
      "Model 2 : 96.9797%\n",
      "Model 3 : 95.9374%\n",
      "Model 4 : 96.8209%\n",
      "Model 5 : 95.9242%\n"
     ]
    },
    {
     "data": {
      "image/png": "[encoded data removed]",
      "text/plain": [
       "<Figure size 720x720 with 1 Axes>"
      ]
     },
     "metadata": {},
     "output_type": "display_data"
    }
   ],
   "source": [
    "path = 'Models/Bagging Classifier/Robust Scaler/'\n",
    "j = 1\n",
    "bcRsScores = []\n",
    "for i in os.listdir(path):\n",
    "    model_path = path + str(i)\n",
    "    with open(model_path, 'rb') as f:\n",
    "        model = pickle.load(f)\n",
    "        pred = model.predict(data_RS)\n",
    "        f1 = f1_score(labels, pred, average = 'macro')\n",
    "    print(f'Model {j} : {round(f1*100, 4)}%')\n",
    "    bcRsScores.append(f1)\n",
    "    j += 1\n",
    "Figure = plt.figure(figsize=(10,10))\n",
    "plt.bar(modelNames, bcRsScores, color=['aquamarine', 'turquoise', 'lightseagreen', 'mediumturquoise', 'paleturquoise'])\n",
    "plt.show()"
   ]
  },
  {
   "cell_type": "markdown",
   "metadata": {},
   "source": [
    "Quantile Transformer Unifrom"
   ]
  },
  {
   "cell_type": "code",
   "execution_count": 59,
   "metadata": {},
   "outputs": [
    {
     "name": "stdout",
     "output_type": "stream",
     "text": [
      "Model 1 : 0.9724702577073269\n",
      "Model 2 : 0.9700999525867313\n",
      "Model 3 : 0.9600210012618902\n",
      "Model 4 : 0.9681841136770184\n",
      "Model 5 : 0.9614164031622707\n"
     ]
    },
    {
     "data": {
      "image/png": "[encoded data removed]",
      "text/plain": [
       "<Figure size 720x720 with 1 Axes>"
      ]
     },
     "metadata": {},
     "output_type": "display_data"
    }
   ],
   "source": [
    "path = 'Models/Bagging Classifier/Quantile Transformer/'\n",
    "j = 1\n",
    "bcQtScores = []\n",
    "for i in os.listdir(path):\n",
    "    model_path = path + str(i)\n",
    "    with open(model_path, 'rb') as f:\n",
    "        model = pickle.load(f)\n",
    "        pred = model.predict(data_QT)\n",
    "        f1 = f1_score(labels, pred, average = 'macro')\n",
    "    print(f'Model {j} : {f1}')\n",
    "    bcQtScores.append(f1)\n",
    "    j += 1\n",
    "Figure = plt.figure(figsize=(10,10))\n",
    "plt.bar(modelNames, bcQtScores, color=['aquamarine', 'turquoise', 'lightseagreen', 'mediumturquoise', 'paleturquoise'])\n",
    "plt.show()"
   ]
  },
  {
   "cell_type": "markdown",
   "metadata": {},
   "source": [
    "Quantile Transformer Normal"
   ]
  },
  {
   "cell_type": "code",
   "execution_count": 60,
   "metadata": {},
   "outputs": [
    {
     "name": "stdout",
     "output_type": "stream",
     "text": [
      "Model 1 : 97.247%\n",
      "Model 2 : 97.01%\n",
      "Model 3 : 96.0021%\n",
      "Model 4 : 96.8184%\n",
      "Model 5 : 96.1416%\n"
     ]
    },
    {
     "data": {
      "image/png": "[encoded data removed]",
      "text/plain": [
       "<Figure size 720x720 with 1 Axes>"
      ]
     },
     "metadata": {},
     "output_type": "display_data"
    }
   ],
   "source": [
    "path = 'Models/Bagging Classifier/Quantile Transformer/'\n",
    "j = 1\n",
    "bcQtnScores = []\n",
    "for i in os.listdir(path):\n",
    "    model_path = path + str(i)\n",
    "    with open(model_path, 'rb') as f:\n",
    "        model = pickle.load(f)\n",
    "        pred = model.predict(data_QT)\n",
    "    f1 = f1_score(labels, pred, average = 'macro')\n",
    "    print(f'Model {j} : {round(f1*100, 4)}%')\n",
    "    bcQtnScores.append(f1)\n",
    "    j += 1\n",
    "Figure = plt.figure(figsize=(10,10))\n",
    "plt.bar(modelNames, bcQtnScores, color=['aquamarine', 'turquoise', 'lightseagreen', 'mediumturquoise', 'paleturquoise'])\n",
    "plt.show()"
   ]
  },
  {
   "cell_type": "markdown",
   "metadata": {},
   "source": [
    "By the F1 Major Score we can see that Bagging Classifier with Quantile Normal Transform model 1 or Quantile Transform Uniform model 1 is the best for our data."
   ]
  },
  {
   "cell_type": "code",
   "execution_count": 61,
   "metadata": {},
   "outputs": [
    {
     "data": {
      "text/html": [
       "<div>\n",
       "<style scoped>\n",
       "    .dataframe tbody tr th:only-of-type {\n",
       "        vertical-align: middle;\n",
       "    }\n",
       "\n",
       "    .dataframe tbody tr th {\n",
       "        vertical-align: top;\n",
       "    }\n",
       "\n",
       "    .dataframe thead th {\n",
       "        text-align: right;\n",
       "    }\n",
       "</style>\n",
       "<table border=\"1\" class=\"dataframe\">\n",
       "  <thead>\n",
       "    <tr style=\"text-align: right;\">\n",
       "      <th></th>\n",
       "      <th>Model</th>\n",
       "      <th>Scaler</th>\n",
       "      <th>Scores</th>\n",
       "    </tr>\n",
       "  </thead>\n",
       "  <tbody>\n",
       "    <tr>\n",
       "      <th>0</th>\n",
       "      <td>Random Forest</td>\n",
       "      <td>Normal</td>\n",
       "      <td>97.077589</td>\n",
       "    </tr>\n",
       "    <tr>\n",
       "      <th>1</th>\n",
       "      <td>Random Forest</td>\n",
       "      <td>Robust Scaler</td>\n",
       "      <td>97.065563</td>\n",
       "    </tr>\n",
       "    <tr>\n",
       "      <th>2</th>\n",
       "      <td>Random Forest</td>\n",
       "      <td>Quantile Transform Uniform</td>\n",
       "      <td>97.030422</td>\n",
       "    </tr>\n",
       "    <tr>\n",
       "      <th>3</th>\n",
       "      <td>Random Forest</td>\n",
       "      <td>Quantile Trnasform Normal</td>\n",
       "      <td>97.069758</td>\n",
       "    </tr>\n",
       "    <tr>\n",
       "      <th>4</th>\n",
       "      <td>Support Vector Machines</td>\n",
       "      <td>Robust Scaler</td>\n",
       "      <td>64.498017</td>\n",
       "    </tr>\n",
       "    <tr>\n",
       "      <th>5</th>\n",
       "      <td>Support Vector Machines</td>\n",
       "      <td>Quantile Transform Uniform</td>\n",
       "      <td>84.281202</td>\n",
       "    </tr>\n",
       "    <tr>\n",
       "      <th>6</th>\n",
       "      <td>Support Vector Machines</td>\n",
       "      <td>Quantile Trnasform Normal</td>\n",
       "      <td>83.066130</td>\n",
       "    </tr>\n",
       "    <tr>\n",
       "      <th>7</th>\n",
       "      <td>Bagging Classifier</td>\n",
       "      <td>Normal</td>\n",
       "      <td>97.216452</td>\n",
       "    </tr>\n",
       "    <tr>\n",
       "      <th>8</th>\n",
       "      <td>Bagging Classifier</td>\n",
       "      <td>Robust Scaler</td>\n",
       "      <td>97.195032</td>\n",
       "    </tr>\n",
       "    <tr>\n",
       "      <th>9</th>\n",
       "      <td>Bagging Classifier</td>\n",
       "      <td>Quantile Transform Uniform</td>\n",
       "      <td>97.247026</td>\n",
       "    </tr>\n",
       "    <tr>\n",
       "      <th>10</th>\n",
       "      <td>Bagging Classifier</td>\n",
       "      <td>Quantile Trnasform Normal</td>\n",
       "      <td>97.247026</td>\n",
       "    </tr>\n",
       "  </tbody>\n",
       "</table>\n",
       "</div>"
      ],
      "text/plain": [
       "                      Model                      Scaler     Scores\n",
       "0             Random Forest                      Normal  97.077589\n",
       "1             Random Forest               Robust Scaler  97.065563\n",
       "2             Random Forest  Quantile Transform Uniform  97.030422\n",
       "3             Random Forest   Quantile Trnasform Normal  97.069758\n",
       "4   Support Vector Machines               Robust Scaler  64.498017\n",
       "5   Support Vector Machines  Quantile Transform Uniform  84.281202\n",
       "6   Support Vector Machines   Quantile Trnasform Normal  83.066130\n",
       "7        Bagging Classifier                      Normal  97.216452\n",
       "8        Bagging Classifier               Robust Scaler  97.195032\n",
       "9        Bagging Classifier  Quantile Transform Uniform  97.247026\n",
       "10       Bagging Classifier   Quantile Trnasform Normal  97.247026"
      ]
     },
     "execution_count": 61,
     "metadata": {},
     "output_type": "execute_result"
    }
   ],
   "source": [
    "df_scores = pd.DataFrame({'Model' : ['Random Forest', 'Random Forest', 'Random Forest', 'Random Forest', 'Support Vector Machines', 'Support Vector Machines', 'Support Vector Machines', 'Bagging Classifier', 'Bagging Classifier', 'Bagging Classifier', 'Bagging Classifier'], 'Scaler' : ['Normal', 'Robust Scaler', 'Quantile Transform Uniform', 'Quantile Trnasform Normal', 'Robust Scaler', 'Quantile Transform Uniform', 'Quantile Trnasform Normal', 'Normal', 'Robust Scaler', 'Quantile Transform Uniform', 'Quantile Trnasform Normal'], 'Scores' : [np.max(i)*100 for i in [rfNormalScores, rfRsScores, rfQtScores, rfQtnScores, svmRsScores, svmQtScores, svmQtnScores, bcNormalScores, bcRsScores, bcQtScores, bcQtnScores]]})\n",
    "df_scores"
   ]
  },
  {
   "cell_type": "code",
   "execution_count": 62,
   "metadata": {},
   "outputs": [
    {
     "data": {
      "image/png": "[encoded data removed]",
      "text/plain": [
       "<Figure size 1440x1440 with 1 Axes>"
      ]
     },
     "metadata": {},
     "output_type": "display_data"
    }
   ],
   "source": [
    "Figure = plt.figure(figsize=(20,20))\n",
    "sns.set_style('darkgrid')\n",
    "ax = sns.barplot(x = 'Model', y = 'Scores', hue = 'Scaler', data = df_scores)\n",
    "ax.bar_label(ax.containers[0], size = 20)\n",
    "ax.bar_label(ax.containers[1], size = 20)\n",
    "ax.bar_label(ax.containers[2], size = 20)\n",
    "ax.bar_label(ax.containers[3], size = 20)\n",
    "plt.title('Maximum F1 Major Scores of Models', fontdict = {'fontsize' : 20})\n",
    "plt.xlabel('Model', fontdict = {'fontsize' : 20})\n",
    "plt.ylabel('Scores (in %)', fontdict = {'fontsize' : 20})\n",
    "plt.show()"
   ]
  },
  {
   "cell_type": "markdown",
   "metadata": {},
   "source": [
    "### Generating Test Labels"
   ]
  },
  {
   "cell_type": "markdown",
   "metadata": {},
   "source": [
    "##### Loading test data"
   ]
  },
  {
   "cell_type": "code",
   "execution_count": 24,
   "metadata": {},
   "outputs": [
    {
     "data": {
      "text/html": [
       "<div>\n",
       "<style scoped>\n",
       "    .dataframe tbody tr th:only-of-type {\n",
       "        vertical-align: middle;\n",
       "    }\n",
       "\n",
       "    .dataframe tbody tr th {\n",
       "        vertical-align: top;\n",
       "    }\n",
       "\n",
       "    .dataframe thead th {\n",
       "        text-align: right;\n",
       "    }\n",
       "</style>\n",
       "<table border=\"1\" class=\"dataframe\">\n",
       "  <thead>\n",
       "    <tr style=\"text-align: right;\">\n",
       "      <th></th>\n",
       "      <th>GPStime</th>\n",
       "      <th>centralFreq</th>\n",
       "      <th>peakFreq</th>\n",
       "      <th>snr</th>\n",
       "      <th>bandwidth</th>\n",
       "      <th>duration</th>\n",
       "      <th>ifo_H1</th>\n",
       "      <th>ifo_L1</th>\n",
       "    </tr>\n",
       "  </thead>\n",
       "  <tbody>\n",
       "    <tr>\n",
       "      <th>0</th>\n",
       "      <td>0.463964</td>\n",
       "      <td>0.791291</td>\n",
       "      <td>0.259009</td>\n",
       "      <td>0.822823</td>\n",
       "      <td>0.794294</td>\n",
       "      <td>0.722973</td>\n",
       "      <td>1</td>\n",
       "      <td>0</td>\n",
       "    </tr>\n",
       "    <tr>\n",
       "      <th>1</th>\n",
       "      <td>0.539039</td>\n",
       "      <td>0.469970</td>\n",
       "      <td>0.895646</td>\n",
       "      <td>0.328829</td>\n",
       "      <td>0.472973</td>\n",
       "      <td>0.084084</td>\n",
       "      <td>1</td>\n",
       "      <td>0</td>\n",
       "    </tr>\n",
       "    <tr>\n",
       "      <th>2</th>\n",
       "      <td>0.168168</td>\n",
       "      <td>0.247748</td>\n",
       "      <td>0.603604</td>\n",
       "      <td>0.075075</td>\n",
       "      <td>0.180931</td>\n",
       "      <td>0.052553</td>\n",
       "      <td>0</td>\n",
       "      <td>1</td>\n",
       "    </tr>\n",
       "    <tr>\n",
       "      <th>3</th>\n",
       "      <td>0.564565</td>\n",
       "      <td>0.611111</td>\n",
       "      <td>0.638889</td>\n",
       "      <td>0.453453</td>\n",
       "      <td>0.624625</td>\n",
       "      <td>0.144144</td>\n",
       "      <td>1</td>\n",
       "      <td>0</td>\n",
       "    </tr>\n",
       "    <tr>\n",
       "      <th>4</th>\n",
       "      <td>0.548048</td>\n",
       "      <td>0.468468</td>\n",
       "      <td>0.707207</td>\n",
       "      <td>0.189189</td>\n",
       "      <td>0.480480</td>\n",
       "      <td>0.243243</td>\n",
       "      <td>1</td>\n",
       "      <td>0</td>\n",
       "    </tr>\n",
       "  </tbody>\n",
       "</table>\n",
       "</div>"
      ],
      "text/plain": [
       "    GPStime  centralFreq  peakFreq       snr  bandwidth  duration  ifo_H1  \\\n",
       "0  0.463964     0.791291  0.259009  0.822823   0.794294  0.722973       1   \n",
       "1  0.539039     0.469970  0.895646  0.328829   0.472973  0.084084       1   \n",
       "2  0.168168     0.247748  0.603604  0.075075   0.180931  0.052553       0   \n",
       "3  0.564565     0.611111  0.638889  0.453453   0.624625  0.144144       1   \n",
       "4  0.548048     0.468468  0.707207  0.189189   0.480480  0.243243       1   \n",
       "\n",
       "   ifo_L1  \n",
       "0       0  \n",
       "1       0  \n",
       "2       1  \n",
       "3       0  \n",
       "4       0  "
      ]
     },
     "execution_count": 24,
     "metadata": {},
     "output_type": "execute_result"
    }
   ],
   "source": [
    "test = pd.read_csv('data/glitch_tst_data.csv')\n",
    "col = ['GPStime', 'centralFreq', 'peakFreq', 'snr', 'bandwidth', 'duration']\n",
    "test_QT = scaler(QuantileTransformer(random_state = 0, output_distribution = 'uniform'), test.drop(['id'], axis = 1), col)\n",
    "test_QT = pd.concat([test_QT, pd.get_dummies(test_QT['ifo'], prefix = 'ifo')], axis=1).drop(['ifo'], axis=1)"
   ]
  },
  {
   "cell_type": "markdown",
   "metadata": {},
   "source": [
    "#### Loading Model"
   ]
  },
  {
   "cell_type": "code",
   "execution_count": 25,
   "metadata": {},
   "outputs": [],
   "source": [
    "with open('Models/Bagging Classifier/Quantile Transformer/bagging_1.sav', 'rb') as f:\n",
    "    model = pickle.load(f)"
   ]
  },
  {
   "cell_type": "markdown",
   "metadata": {},
   "source": [
    "#### Predicting and writing to file"
   ]
  },
  {
   "cell_type": "code",
   "execution_count": 31,
   "metadata": {},
   "outputs": [],
   "source": [
    "prediction = model.predict(test_QT)\n",
    "labels = le.inverse_transform(prediction)\n",
    "with open('meet_maratha_labels.txt', 'w') as f:\n",
    "    for label in labels:\n",
    "        f.write(label + '\\n')"
   ]
  },
  {
   "cell_type": "code",
   "execution_count": null,
   "metadata": {},
   "outputs": [],
   "source": []
  }
 ],
 "metadata": {
  "interpreter": {
   "hash": "273fcc4fc72bf0d8f4f3dc7a51091041456e739b3365150a33dfb75148879c78"
  },
  "kernelspec": {
   "display_name": "Python 3.9.9 ('dmsl': venv)",
   "language": "python",
   "name": "python3"
  },
  "language_info": {
   "codemirror_mode": {
    "name": "ipython",
    "version": 3
   },
   "file_extension": ".py",
   "mimetype": "text/x-python",
   "name": "python",
   "nbconvert_exporter": "python",
   "pygments_lexer": "ipython3",
   "version": "3.9.9"
  },
  "orig_nbformat": 4
 },
 "nbformat": 4,
 "nbformat_minor": 2
}
